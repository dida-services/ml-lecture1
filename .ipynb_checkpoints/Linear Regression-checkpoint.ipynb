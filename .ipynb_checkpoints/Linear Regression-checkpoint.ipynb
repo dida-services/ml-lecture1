{
 "cells": [
  {
   "cell_type": "markdown",
   "metadata": {},
   "source": [
    "## Generate Data\n",
    "Create data from a straight line and then add some Gaussian noise"
   ]
  },
  {
   "cell_type": "code",
   "execution_count": 3,
   "metadata": {},
   "outputs": [
    {
     "name": "stdout",
     "output_type": "stream",
     "text": [
      "x =  [[ 0.        ]\n",
      " [ 0.34482759]\n",
      " [ 0.68965517]\n",
      " [ 1.03448276]\n",
      " [ 1.37931034]\n",
      " [ 1.72413793]\n",
      " [ 2.06896552]\n",
      " [ 2.4137931 ]\n",
      " [ 2.75862069]\n",
      " [ 3.10344828]\n",
      " [ 3.44827586]\n",
      " [ 3.79310345]\n",
      " [ 4.13793103]\n",
      " [ 4.48275862]\n",
      " [ 4.82758621]\n",
      " [ 5.17241379]\n",
      " [ 5.51724138]\n",
      " [ 5.86206897]\n",
      " [ 6.20689655]\n",
      " [ 6.55172414]\n",
      " [ 6.89655172]\n",
      " [ 7.24137931]\n",
      " [ 7.5862069 ]\n",
      " [ 7.93103448]\n",
      " [ 8.27586207]\n",
      " [ 8.62068966]\n",
      " [ 8.96551724]\n",
      " [ 9.31034483]\n",
      " [ 9.65517241]\n",
      " [10.        ]]\n",
      "y =  [[-0.84239769]\n",
      " [ 1.6786873 ]\n",
      " [ 2.85309561]\n",
      " [ 3.88219556]\n",
      " [ 5.02867597]\n",
      " [ 5.24639649]\n",
      " [ 5.42231023]\n",
      " [ 7.16211977]\n",
      " [ 8.68061778]\n",
      " [ 8.79532657]\n",
      " [ 8.9255248 ]\n",
      " [11.56741594]\n",
      " [14.17258768]\n",
      " [13.1790688 ]\n",
      " [14.94056652]\n",
      " [15.38225782]\n",
      " [15.68991729]\n",
      " [17.77557318]\n",
      " [16.80144942]\n",
      " [19.76714816]\n",
      " [21.60942697]\n",
      " [22.6784865 ]\n",
      " [21.44064754]\n",
      " [24.14007293]\n",
      " [25.47504167]\n",
      " [26.38750654]\n",
      " [25.98251376]\n",
      " [28.06011985]\n",
      " [28.91656942]\n",
      " [28.67171151]]\n"
     ]
    }
   ],
   "source": [
    "import numpy as np\n",
    "\n",
    "NUM_POINTS = 30\n",
    "\n",
    "# Evenly spaced x positions\n",
    "x = np.linspace(0,10, NUM_POINTS).reshape((NUM_POINTS, 1))\n",
    "#print('x = ',x)\n",
    "\n",
    "# Gausian/normal noise\n",
    "noise = np.random.randn(NUM_POINTS).reshape((NUM_POINTS, 1))\n",
    "\n",
    "# y = 3x + noise\n",
    "y = 3.0*x + noise\n",
    "#print('y = ',y)"
   ]
  }
 ],
 "metadata": {
  "kernelspec": {
   "display_name": "Python 3",
   "language": "python",
   "name": "python3"
  },
  "language_info": {
   "codemirror_mode": {
    "name": "ipython",
    "version": 3
   },
   "file_extension": ".py",
   "mimetype": "text/x-python",
   "name": "python",
   "nbconvert_exporter": "python",
   "pygments_lexer": "ipython3",
   "version": "3.6.10"
  }
 },
 "nbformat": 4,
 "nbformat_minor": 4
}
